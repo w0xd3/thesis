{
 "cells": [
  {
   "cell_type": "code",
   "execution_count": 8,
   "metadata": {},
   "outputs": [],
   "source": [
    "import pandas as pd\n",
    "import numpy as np"
   ]
  },
  {
   "cell_type": "code",
   "execution_count": 15,
   "metadata": {},
   "outputs": [
    {
     "name": "stdout",
     "output_type": "stream",
     "text": [
      "[2920.77385453]\n"
     ]
    }
   ],
   "source": [
    "def produce_req(district, time):\n",
    "\n",
    "    base = 1000\n",
    "    population = pd.read_csv('./深圳各区人口系数.csv')\n",
    "    season = pd.read_csv('./季节系数.csv', encoding='gbk')\n",
    "\n",
    "    req = base * population.loc[population['区域'] == district]['建议系数'].values * season.loc[season['月份'] == time]['系数'].values + np.random.normal(loc=200, scale=200)\n",
    "    return req"
   ]
  }
 ],
 "metadata": {
  "kernelspec": {
   "display_name": "Python 3",
   "language": "python",
   "name": "python3"
  },
  "language_info": {
   "codemirror_mode": {
    "name": "ipython",
    "version": 3
   },
   "file_extension": ".py",
   "mimetype": "text/x-python",
   "name": "python",
   "nbconvert_exporter": "python",
   "pygments_lexer": "ipython3",
   "version": "3.9.13"
  },
  "orig_nbformat": 4
 },
 "nbformat": 4,
 "nbformat_minor": 2
}
